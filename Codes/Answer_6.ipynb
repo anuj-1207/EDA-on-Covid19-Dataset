{
 "cells": [
  {
   "cell_type": "markdown",
   "id": "0e65efad",
   "metadata": {},
   "source": [
    "\n",
    "### Importing libraries that will be useful :-"
   ]
  },
  {
   "cell_type": "code",
   "execution_count": 1,
   "id": "fdadfbd2",
   "metadata": {},
   "outputs": [],
   "source": [
    "import warnings \n",
    "warnings.filterwarnings('ignore')\n",
    "import json\n",
    "import pandas as pd"
   ]
  },
  {
   "cell_type": "markdown",
   "id": "51a24647",
   "metadata": {},
   "source": [
    "# Question 6 solution : "
   ]
  },
  {
   "cell_type": "markdown",
   "id": "35e8b71b",
   "metadata": {},
   "source": [
    "Reading data from DDW_PCA0000_2011_Indiastatedist.xlsx file i.e population data :-"
   ]
  },
  {
   "cell_type": "code",
   "execution_count": 2,
   "id": "ab42521c",
   "metadata": {},
   "outputs": [],
   "source": [
    "population_data= pd.read_excel('DDW_PCA0000_2011_Indiastatedist.xlsx',usecols=['Level','Name','TRU','TOT_M','TOT_F'])\n",
    "# population_data"
   ]
  },
  {
   "cell_type": "markdown",
   "id": "374e01a2",
   "metadata": {},
   "source": [
    "Taking out district data from population data for calculating all the ratios at district level :-"
   ]
  },
  {
   "cell_type": "code",
   "execution_count": 4,
   "id": "06e2b056",
   "metadata": {
    "scrolled": true
   },
   "outputs": [
    {
     "data": {
      "text/html": [
       "<div>\n",
       "<style scoped>\n",
       "    .dataframe tbody tr th:only-of-type {\n",
       "        vertical-align: middle;\n",
       "    }\n",
       "\n",
       "    .dataframe tbody tr th {\n",
       "        vertical-align: top;\n",
       "    }\n",
       "\n",
       "    .dataframe thead th {\n",
       "        text-align: right;\n",
       "    }\n",
       "</style>\n",
       "<table border=\"1\" class=\"dataframe\">\n",
       "  <thead>\n",
       "    <tr style=\"text-align: right;\">\n",
       "      <th></th>\n",
       "      <th>Level</th>\n",
       "      <th>Name</th>\n",
       "      <th>TOT_M</th>\n",
       "      <th>TOT_F</th>\n",
       "    </tr>\n",
       "  </thead>\n",
       "  <tbody>\n",
       "    <tr>\n",
       "      <th>0</th>\n",
       "      <td>DISTRICT</td>\n",
       "      <td>adilabad</td>\n",
       "      <td>1369597</td>\n",
       "      <td>1371642</td>\n",
       "    </tr>\n",
       "    <tr>\n",
       "      <th>1</th>\n",
       "      <td>DISTRICT</td>\n",
       "      <td>agra</td>\n",
       "      <td>2364953</td>\n",
       "      <td>2053844</td>\n",
       "    </tr>\n",
       "    <tr>\n",
       "      <th>2</th>\n",
       "      <td>DISTRICT</td>\n",
       "      <td>ahmedabad</td>\n",
       "      <td>3788051</td>\n",
       "      <td>3426174</td>\n",
       "    </tr>\n",
       "    <tr>\n",
       "      <th>3</th>\n",
       "      <td>DISTRICT</td>\n",
       "      <td>ahmednagar</td>\n",
       "      <td>2342825</td>\n",
       "      <td>2200334</td>\n",
       "    </tr>\n",
       "    <tr>\n",
       "      <th>4</th>\n",
       "      <td>DISTRICT</td>\n",
       "      <td>aizawl</td>\n",
       "      <td>199270</td>\n",
       "      <td>201039</td>\n",
       "    </tr>\n",
       "    <tr>\n",
       "      <th>...</th>\n",
       "      <td>...</td>\n",
       "      <td>...</td>\n",
       "      <td>...</td>\n",
       "      <td>...</td>\n",
       "    </tr>\n",
       "    <tr>\n",
       "      <th>635</th>\n",
       "      <td>DISTRICT</td>\n",
       "      <td>yadgir</td>\n",
       "      <td>590329</td>\n",
       "      <td>583942</td>\n",
       "    </tr>\n",
       "    <tr>\n",
       "      <th>636</th>\n",
       "      <td>DISTRICT</td>\n",
       "      <td>yamunanagar</td>\n",
       "      <td>646718</td>\n",
       "      <td>567487</td>\n",
       "    </tr>\n",
       "    <tr>\n",
       "      <th>637</th>\n",
       "      <td>DISTRICT</td>\n",
       "      <td>yanam</td>\n",
       "      <td>27301</td>\n",
       "      <td>28325</td>\n",
       "    </tr>\n",
       "    <tr>\n",
       "      <th>638</th>\n",
       "      <td>DISTRICT</td>\n",
       "      <td>yavatmal</td>\n",
       "      <td>1419965</td>\n",
       "      <td>1352383</td>\n",
       "    </tr>\n",
       "    <tr>\n",
       "      <th>639</th>\n",
       "      <td>DISTRICT</td>\n",
       "      <td>zunheboto</td>\n",
       "      <td>71217</td>\n",
       "      <td>69540</td>\n",
       "    </tr>\n",
       "  </tbody>\n",
       "</table>\n",
       "<p>640 rows × 4 columns</p>\n",
       "</div>"
      ],
      "text/plain": [
       "        Level         Name    TOT_M    TOT_F\n",
       "0    DISTRICT     adilabad  1369597  1371642\n",
       "1    DISTRICT         agra  2364953  2053844\n",
       "2    DISTRICT    ahmedabad  3788051  3426174\n",
       "3    DISTRICT   ahmednagar  2342825  2200334\n",
       "4    DISTRICT       aizawl   199270   201039\n",
       "..        ...          ...      ...      ...\n",
       "635  DISTRICT       yadgir   590329   583942\n",
       "636  DISTRICT  yamunanagar   646718   567487\n",
       "637  DISTRICT        yanam    27301    28325\n",
       "638  DISTRICT     yavatmal  1419965  1352383\n",
       "639  DISTRICT    zunheboto    71217    69540\n",
       "\n",
       "[640 rows x 4 columns]"
      ]
     },
     "execution_count": 4,
     "metadata": {},
     "output_type": "execute_result"
    }
   ],
   "source": [
    "census_data_district = population_data.loc[(population_data['Level'] == 'DISTRICT') & (population_data['TRU'] == 'Total')]\n",
    "census_data_district = census_data_district.drop(columns=[\"TRU\"])\n",
    "census_data_district[\"Name\"] = census_data_district[\"Name\"].str.lower()\n",
    "census_data_district = census_data_district.sort_values('Name',ignore_index=True)\n",
    "# len(census_data_district) is 640\n",
    "\n",
    "# with pd.option_context('display.max_rows', None,'display.max_columns', None,'display.precision', 4,):\n",
    "#     print(census_data_district)\n",
    "census_data_district"
   ]
  },
  {
   "cell_type": "markdown",
   "id": "d8280ab8",
   "metadata": {},
   "source": [
    "Reading data from cowin_vaccine_data_districtwise.csv file i.e vaccine data for each district :- "
   ]
  },
  {
   "cell_type": "code",
   "execution_count": 4,
   "id": "30d67f29",
   "metadata": {},
   "outputs": [],
   "source": [
    "vaccine_data = pd.read_csv(\"cowin_vaccine_data_districtwise.csv\",usecols=['State','District_Key','District',\n",
    "                                                                '31/08/2021.5','31/08/2021.6'])\n",
    "vaccine_data.rename(columns = {'31/08/2021.5':'Male(Individuals Vaccinated)',\n",
    "                               '31/08/2021.6':'Female(Individuals Vaccinated)'}, inplace = True)\n",
    "vaccine_data = vaccine_data.drop(vaccine_data.index[0])\n",
    "\n",
    "## Making all the district names into small letters so that merging will be easy ##\n",
    "vaccine_data[\"District\"] = vaccine_data[\"District\"].str.lower()\n",
    "\n",
    "## Changing vaccination numbers values type from object to numeric ##\n",
    "vaccine_data['Male(Individuals Vaccinated)'] = vaccine_data['Male(Individuals Vaccinated)'].astype(float)\n",
    "vaccine_data['Female(Individuals Vaccinated)'] = vaccine_data['Female(Individuals Vaccinated)'].astype(float)\n",
    "# vaccine_data['Female(Individuals Vaccinated)'] = pd.to_numeric(vaccine_data['Female(Individuals Vaccinated)'], errors='coerce')\n",
    "\n",
    "## Sorting vaccination data on the basic of district values ##\n",
    "vaccine_data = vaccine_data.sort_values('District',ignore_index=True)\n",
    "# vaccine_data"
   ]
  },
  {
   "cell_type": "markdown",
   "id": "44fa07c7",
   "metadata": {},
   "source": [
    "So while printing \"vaccine_data\" we came to know that in vaccination data many districts are splitted into 2 or more parts. In order to avoid any confusion further while merging vaccination data with census data, lets merge them now (i.e. splitted districts).."
   ]
  },
  {
   "cell_type": "code",
   "execution_count": 5,
   "id": "3400cd8d",
   "metadata": {},
   "outputs": [],
   "source": [
    "# with pd.option_context('display.max_rows', None,'display.max_columns', None,'display.precision', 4,):\n",
    "#     print(vaccine_data.groupby(['State','District_Key','District']).sum().reset_index().sort_values('District',ignore_index=True))\n",
    "vaccine_data = vaccine_data.groupby(['State','District_Key','District']).agg({'Male(Individuals Vaccinated)':'sum','Female(Individuals Vaccinated)':'sum'}).reset_index()  \n",
    "vaccine_data = vaccine_data.sort_values('District',ignore_index=True)\n",
    "# len(vaccine_data) is 729\n",
    "# vaccine_data"
   ]
  },
  {
   "cell_type": "markdown",
   "id": "fd0b9e8d",
   "metadata": {},
   "source": [
    "So now lets find out which dictricts are not common in both census data and vaccine data :- "
   ]
  },
  {
   "cell_type": "code",
   "execution_count": 6,
   "id": "3b9f8344",
   "metadata": {},
   "outputs": [],
   "source": [
    "### From Census data fetching all the districts as a dataframe ###\n",
    "\n",
    "district_in_census = census_data_district[['Name']].copy() \n",
    "district_in_census = district_in_census.sort_values('Name',ignore_index=True)\n",
    "district_in_census.rename(columns = {'Name':'district_in_census'}, inplace = True)\n",
    "# with pd.option_context('display.max_rows', None,'display.max_columns', None,'display.precision', 4,):\n",
    "#     print(district_in_census)"
   ]
  },
  {
   "cell_type": "code",
   "execution_count": 7,
   "id": "d7b72666",
   "metadata": {},
   "outputs": [],
   "source": [
    "### From vaccine data fetching all the districts as a dataframe ###\n",
    "\n",
    "district_in_vaccine = vaccine_data[['District']].copy() \n",
    "district_in_vaccine = district_in_vaccine.sort_values('District',ignore_index=True)\n",
    "district_in_vaccine.rename(columns = {'District':'district_names_covid'}, inplace = True)\n",
    "# with pd.option_context('display.max_rows', None,'display.max_columns', None,'display.precision', 4,):\n",
    "#     print(district_in_vaccine)"
   ]
  },
  {
   "cell_type": "code",
   "execution_count": 8,
   "id": "dc4af18a",
   "metadata": {},
   "outputs": [],
   "source": [
    "### From vaccination data pulling out all the districts as a list.. ###\n",
    "district_in_vaccine_list = district_in_vaccine['district_names_covid'].tolist()\n",
    "# district_in_vaccine_list                                                          "
   ]
  },
  {
   "cell_type": "code",
   "execution_count": 9,
   "id": "20afa376",
   "metadata": {},
   "outputs": [],
   "source": [
    "### Finding out all the districts from census data which are mismatching with vaccine data ###\n",
    "\n",
    "district_in_census_not_in_covid_data = district_in_census[~district_in_census['district_in_census'].isin(district_in_vaccine_list)]\n",
    "# with pd.option_context('display.max_rows', None,'display.max_columns', None,'display.precision', 4,):\n",
    "#     print(district_in_census_not_in_covid_data)\n",
    "district_in_census_not_in_covid_data = district_in_census_not_in_covid_data.reset_index()\n",
    "# district_in_census_not_in_covid_data"
   ]
  },
  {
   "cell_type": "code",
   "execution_count": 10,
   "id": "94801561",
   "metadata": {},
   "outputs": [],
   "source": [
    "\"\"\"  So as we found all the mismatching districts, now lets make a dictionary with key as district's wrong spelling and\n",
    "     value as its correct spelling.  \"\"\"\n",
    "\n",
    "corrected_districts = {}\n",
    "corrected_districts['aizwal']='aizawl'\n",
    "corrected_districts['anugul']='angul'\n",
    "corrected_districts['ashok nagar']='ashoknagar'\n",
    "corrected_districts['badgam']='budgam'\n",
    "corrected_districts['baleshwar']='balasore'\n",
    "corrected_districts['banas kantha']='banaskantha'\n",
    "corrected_districts['bangalore rural']='bengaluru rural'\n",
    "corrected_districts['bangalore urban']='bengaluru urban'\n",
    "corrected_districts['baramula']='baramulla'\n",
    "corrected_districts['baudh']='boudh'\n",
    "corrected_districts['belgaum']='belagavi'\n",
    "corrected_districts['bellary']='ballari'\n",
    "corrected_districts['bemetara']='bametara'\n",
    "corrected_districts['bid']='beed'\n",
    "corrected_districts['bishwanath']='biswanath'\n",
    "corrected_districts['chamarajanagar']='chamarajanagara'\n",
    "corrected_districts['dantewada']='dakshin bastar dantewada'\n",
    "corrected_districts['debagarh']='deogarh' \n",
    "corrected_districts['devbhumi dwaraka']='devbhumi dwarka'\n",
    "corrected_districts['dhaulpur']='dholpur'\n",
    "corrected_districts['east karbi anglong']='karbi anglong'\n",
    "corrected_districts['faizabad']='ayodhya'\n",
    "corrected_districts['fategarh sahib']='fatehgarh sahib'\n",
    "corrected_districts['firozpur']='ferozepur'\n",
    "corrected_districts['gondiya']='gondia'\n",
    "corrected_districts['hugli']='hooghly'\n",
    "corrected_districts['jagatsinghapur']='jagatsinghpur'\n",
    "corrected_districts['jajapur']='jajpur'\n",
    "corrected_districts['jalor']='jalore'\n",
    "corrected_districts['jhunjhunun']='jhunjhunu'\n",
    "corrected_districts['jyotiba phule nagar']='amroha'\n",
    "corrected_districts['kabirdham']='kabeerdham'\n",
    "corrected_districts['kaimur (bhabua)']='kaimur'\n",
    "corrected_districts['kanchipuram']='kancheepuram'\n",
    "corrected_districts['kheri']='lakhimpur kheri'\n",
    "corrected_districts['kochbihar']='cooch behar'\n",
    "corrected_districts['kodarma']='koderma'\n",
    "corrected_districts['komram bheem']='komaram bheem'\n",
    "corrected_districts['lahul and spiti']='lahaul and spiti'\n",
    "corrected_districts['mahesana']='mehsana'\n",
    "corrected_districts['mahrajganj']='maharajganj'\n",
    "corrected_districts['maldah']='malda'\n",
    "corrected_districts['marigaon']='morigaon'\n",
    "corrected_districts['muktsar']='sri muktsar sahib'\n",
    "corrected_districts['mumbai city']='mumbai'\n",
    "corrected_districts['nandubar']='nandurbar'\n",
    "corrected_districts['narsimhapur']='narsinghpur'\n",
    "corrected_districts['nav sari']='navsari'\n",
    "corrected_districts['pakaur']='pakur'\n",
    "corrected_districts['palghat']='palakkad'\n",
    "corrected_districts['panch mahal']='panchmahal'\n",
    "corrected_districts['pashchim champaran']='west champaran'\n",
    "corrected_districts['pashchimi singhbhum']='west singhbhum'\n",
    "corrected_districts['pattanamtitta']='pathanamthitta'\n",
    "corrected_districts['purba champaran']='east champaran'\n",
    "corrected_districts['purbi singhbhum']='east singhbhum'\n",
    "corrected_districts['puruliya']='purulia'\n",
    "corrected_districts['rae bareilly']='rae bareli'\n",
    "corrected_districts['rajauri']='rajouri'\n",
    "corrected_districts['rangareddy']='ranga reddy'\n",
    "corrected_districts['ri-bhoi']='ribhoi'\n",
    "corrected_districts['sabar kantha']='sabarkantha'\n",
    "corrected_districts['sahibzada ajit singh nagar']='s.a.s. nagar'\n",
    "corrected_districts['sait kibir nagar']='sant kabir nagar'\n",
    "corrected_districts['sant ravidas nagar']='bhadohi'\n",
    "corrected_districts['sepahijala']='sipahijala'\n",
    "corrected_districts['seraikela kharsawan']='saraikela-kharsawan'\n",
    "corrected_districts['shaheed bhagat singh nagar']='shahid bhagat singh nagar'\n",
    "corrected_districts['sharawasti']='shrawasti'\n",
    "corrected_districts['shimoga']='shivamogga'\n",
    "corrected_districts['shopian']='shopiyan'\n",
    "corrected_districts['siddharth nagar']='siddharthnagar'\n",
    "corrected_districts['sivagangai']='sivaganga'\n",
    "corrected_districts['sonapur']='subarnapur'\n",
    "corrected_districts['south salmara-mankachar']='south salmara mankachar'\n",
    "corrected_districts['sri ganganagar']='ganganagar'\n",
    "corrected_districts['sri potti sriramulu nellore']='s.p.s. nellore'\n",
    "corrected_districts['the dangs']='dang'\n",
    "corrected_districts['the nilgiris']='nilgiris'\n",
    "corrected_districts['thoothukudi']='thoothukkudi'\n",
    "corrected_districts['tiruchchirappalli']='tiruchirappalli'\n",
    "corrected_districts['tirunelveli kattabo']='tirunelveli'\n",
    "corrected_districts['tiruvanamalai']='tiruvannamalai'\n",
    "corrected_districts['tumkur']='tumakuru'\n",
    "corrected_districts['yadagiri']='yadgir'\n",
    "corrected_districts['ysr']='y.s.r. kadapa'\n",
    "\n",
    "# len(corrected_districts) # = 71\n",
    "# corrected_districts"
   ]
  },
  {
   "cell_type": "markdown",
   "id": "8daccfaf",
   "metadata": {},
   "source": [
    "So now lets correct all the wrong spellings of districts in census data."
   ]
  },
  {
   "cell_type": "code",
   "execution_count": 11,
   "id": "2277a94b",
   "metadata": {},
   "outputs": [],
   "source": [
    "for i in census_data_district.index:\n",
    "    a = ''\n",
    "    a = census_data_district.iloc[i]['Name']\n",
    "    census_data_district.at[i, 'Name'] = corrected_districts.get(a, a)\n",
    "# with pd.option_context('display.max_rows', None,'display.max_columns', None):\n",
    "#     display(census_data_district)\n",
    "# census_data_district"
   ]
  },
  {
   "cell_type": "markdown",
   "id": "b0ddeb2f",
   "metadata": {},
   "source": [
    "Merging vaccination data and census data side by side to calculate ratios easily :- "
   ]
  },
  {
   "cell_type": "code",
   "execution_count": 12,
   "id": "928cf157",
   "metadata": {},
   "outputs": [],
   "source": [
    "census_data_district['Name'] = census_data_district['Name'].str.strip()\n",
    "vaccine_data['District'] = vaccine_data['District'].str.strip()\n",
    "data_sample = pd.merge(vaccine_data,census_data_district,left_on='District', right_on='Name')\n",
    "data_sample = data_sample.drop(columns=[\"Level\",\"Name\"])\n",
    "# data_sample.rename(columns = {'District_x':'District_Name'}, inplace = True)\n",
    "# data_sample = data_sample.sort_values('District_Name',ignore_index=True)\n",
    "# with pd.option_context('display.max_rows', None,'display.max_columns', None):\n",
    "#     display(data_sample)\n",
    "# data_sample"
   ]
  },
  {
   "cell_type": "markdown",
   "id": "dc374341",
   "metadata": {},
   "source": [
    "Since in many states there are some distrits with same names so while merging they created some redundant rows which are incorrect, we found all of them by seeing manually. So now deleting those rows and re-setting index.\n",
    "____Redundant rows are 30,31,81,217,218,450,451 and 466___"
   ]
  },
  {
   "cell_type": "code",
   "execution_count": 13,
   "id": "a75b37bf",
   "metadata": {},
   "outputs": [],
   "source": [
    "to_del = [30,31,81,217,218,450,451,466]\n",
    "Final_data = data_sample.drop(data_sample.index[to_del])\n",
    "Final_data = Final_data.reset_index()\n",
    "Final_data = Final_data.drop(columns=[\"index\"])\n",
    "# with pd.option_context('display.max_rows', None,'display.max_columns', None):\n",
    "#     display(Final_data)\n",
    "# len(Final_data) is 630\n",
    "# Final_data"
   ]
  },
  {
   "cell_type": "markdown",
   "id": "3f1a4764",
   "metadata": {},
   "source": [
    "Now as we have merged, cleaned and pre-processed data so now it is ready for calculating ratios :-"
   ]
  },
  {
   "cell_type": "markdown",
   "id": "8613179b",
   "metadata": {},
   "source": [
    "## Calculating ratios at district level :-"
   ]
  },
  {
   "cell_type": "code",
   "execution_count": 14,
   "id": "50ca5ea5",
   "metadata": {},
   "outputs": [],
   "source": [
    "district_wise_data = Final_data.copy()\n",
    "district_wise_data = district_wise_data.drop(columns=[\"District\"])\n",
    "district_wise_data.rename(columns = {'Male(Individuals Vaccinated)':'Males_Vaccinated',\n",
    "                               'Female(Individuals Vaccinated)':'Females_Vaccinated',\n",
    "                                 'District_Key':'districtid'}, inplace = True)\n",
    "# district_wise_data"
   ]
  },
  {
   "cell_type": "code",
   "execution_count": 15,
   "id": "56b4c325",
   "metadata": {},
   "outputs": [],
   "source": [
    "district_wise_data['vaccinationratio'] = district_wise_data['Females_Vaccinated']/district_wise_data['Males_Vaccinated']\n",
    "district_wise_data['populationratio'] = district_wise_data['TOT_F']/district_wise_data['TOT_M']\n",
    "district_wise_data['ratioofratios'] = district_wise_data['vaccinationratio']/district_wise_data['populationratio']\n",
    "district_wise_data = district_wise_data.drop(columns=[\"State\",\"Males_Vaccinated\",\"Females_Vaccinated\",\"TOT_M\",\"TOT_F\"])\n",
    "district_wise_data = district_wise_data.sort_values('ratioofratios',ignore_index=True)\n",
    "# with pd.option_context('display.max_rows', None,'display.max_columns', None,'display.precision', 4,):\n",
    "#     display(district_wise_data)\n",
    "# district_wise_data"
   ]
  },
  {
   "cell_type": "markdown",
   "id": "cc0341bf",
   "metadata": {},
   "source": [
    "#### So finally saving ratios calculated at district level  as \"district-vaccination-population-ratio.csv\" :-"
   ]
  },
  {
   "cell_type": "code",
   "execution_count": 16,
   "id": "dcdf8935",
   "metadata": {},
   "outputs": [],
   "source": [
    "district_wise_data.to_csv('district-vaccination-population-ratio.csv', index=False)"
   ]
  },
  {
   "cell_type": "markdown",
   "id": "4b7f891e",
   "metadata": {},
   "source": [
    "## Calculating ratios at state level :-"
   ]
  },
  {
   "cell_type": "code",
   "execution_count": 17,
   "id": "7623540f",
   "metadata": {},
   "outputs": [],
   "source": [
    "State_wise_data = Final_data.copy()\n",
    "State_wise_data = State_wise_data.drop(columns=[\"District\",\"District_Key\"])\n",
    "State_wise_data.rename(columns = {'Male(Individuals Vaccinated)':'Males_Vaccinated',\n",
    "                               'Female(Individuals Vaccinated)':'Females_Vaccinated'}, inplace = True)\n",
    "# State_wise_data"
   ]
  },
  {
   "cell_type": "code",
   "execution_count": 18,
   "id": "fbf9cbe2",
   "metadata": {},
   "outputs": [],
   "source": [
    "State_wise_data = State_wise_data.groupby(['State']).agg({'Males_Vaccinated':'sum',\n",
    "                                                          'Females_Vaccinated':'sum',\n",
    "                                                          'TOT_M':'sum','TOT_F':'sum'}).reset_index()\n",
    "# len(State_wise_data) is 36"
   ]
  },
  {
   "cell_type": "code",
   "execution_count": 6,
   "id": "44210716",
   "metadata": {},
   "outputs": [
    {
     "ename": "NameError",
     "evalue": "name 'State_wise_data' is not defined",
     "output_type": "error",
     "traceback": [
      "\u001b[1;31m---------------------------------------------------------------------------\u001b[0m",
      "\u001b[1;31mNameError\u001b[0m                                 Traceback (most recent call last)",
      "\u001b[1;32m<ipython-input-6-406c7458276d>\u001b[0m in \u001b[0;36m<module>\u001b[1;34m\u001b[0m\n\u001b[1;32m----> 1\u001b[1;33m \u001b[0mState_wise_data\u001b[0m\u001b[1;33m[\u001b[0m\u001b[1;34m'vaccinationratio'\u001b[0m\u001b[1;33m]\u001b[0m \u001b[1;33m=\u001b[0m \u001b[0mState_wise_data\u001b[0m\u001b[1;33m[\u001b[0m\u001b[1;34m'Females_Vaccinated'\u001b[0m\u001b[1;33m]\u001b[0m\u001b[1;33m/\u001b[0m\u001b[0mState_wise_data\u001b[0m\u001b[1;33m[\u001b[0m\u001b[1;34m'Males_Vaccinated'\u001b[0m\u001b[1;33m]\u001b[0m\u001b[1;33m\u001b[0m\u001b[1;33m\u001b[0m\u001b[0m\n\u001b[0m\u001b[0;32m      2\u001b[0m \u001b[0mState_wise_data\u001b[0m\u001b[1;33m[\u001b[0m\u001b[1;34m'populationratio'\u001b[0m\u001b[1;33m]\u001b[0m \u001b[1;33m=\u001b[0m \u001b[0mState_wise_data\u001b[0m\u001b[1;33m[\u001b[0m\u001b[1;34m'TOT_F'\u001b[0m\u001b[1;33m]\u001b[0m\u001b[1;33m/\u001b[0m\u001b[0mState_wise_data\u001b[0m\u001b[1;33m[\u001b[0m\u001b[1;34m'TOT_M'\u001b[0m\u001b[1;33m]\u001b[0m\u001b[1;33m\u001b[0m\u001b[1;33m\u001b[0m\u001b[0m\n\u001b[0;32m      3\u001b[0m \u001b[0mState_wise_data\u001b[0m\u001b[1;33m[\u001b[0m\u001b[1;34m'ratioofratios'\u001b[0m\u001b[1;33m]\u001b[0m \u001b[1;33m=\u001b[0m \u001b[0mState_wise_data\u001b[0m\u001b[1;33m[\u001b[0m\u001b[1;34m'vaccinationratio'\u001b[0m\u001b[1;33m]\u001b[0m\u001b[1;33m/\u001b[0m\u001b[0mState_wise_data\u001b[0m\u001b[1;33m[\u001b[0m\u001b[1;34m'populationratio'\u001b[0m\u001b[1;33m]\u001b[0m\u001b[1;33m\u001b[0m\u001b[1;33m\u001b[0m\u001b[0m\n\u001b[0;32m      4\u001b[0m \u001b[0mState_wise_data\u001b[0m \u001b[1;33m=\u001b[0m \u001b[0mState_wise_data\u001b[0m\u001b[1;33m.\u001b[0m\u001b[0mdrop\u001b[0m\u001b[1;33m(\u001b[0m\u001b[0mcolumns\u001b[0m\u001b[1;33m=\u001b[0m\u001b[1;33m[\u001b[0m\u001b[1;34m\"Males_Vaccinated\"\u001b[0m\u001b[1;33m,\u001b[0m\u001b[1;34m\"Females_Vaccinated\"\u001b[0m\u001b[1;33m,\u001b[0m\u001b[1;34m\"TOT_M\"\u001b[0m\u001b[1;33m,\u001b[0m\u001b[1;34m\"TOT_F\"\u001b[0m\u001b[1;33m]\u001b[0m\u001b[1;33m)\u001b[0m\u001b[1;33m\u001b[0m\u001b[1;33m\u001b[0m\u001b[0m\n\u001b[0;32m      5\u001b[0m \u001b[0mState_wise_data\u001b[0m \u001b[1;33m=\u001b[0m \u001b[0mState_wise_data\u001b[0m\u001b[1;33m.\u001b[0m\u001b[0msort_values\u001b[0m\u001b[1;33m(\u001b[0m\u001b[1;34m'ratioofratios'\u001b[0m\u001b[1;33m,\u001b[0m\u001b[0mignore_index\u001b[0m\u001b[1;33m=\u001b[0m\u001b[1;32mTrue\u001b[0m\u001b[1;33m)\u001b[0m\u001b[1;33m\u001b[0m\u001b[1;33m\u001b[0m\u001b[0m\n",
      "\u001b[1;31mNameError\u001b[0m: name 'State_wise_data' is not defined"
     ]
    }
   ],
   "source": [
    "State_wise_data['vaccinationratio'] = State_wise_data['Females_Vaccinated']/State_wise_data['Males_Vaccinated']\n",
    "State_wise_data['populationratio'] = State_wise_data['TOT_F']/State_wise_data['TOT_M']\n",
    "State_wise_data['ratioofratios'] = State_wise_data['vaccinationratio']/State_wise_data['populationratio']\n",
    "State_wise_data = State_wise_data.drop(columns=[\"Males_Vaccinated\",\"Females_Vaccinated\",\"TOT_M\",\"TOT_F\"])\n",
    "State_wise_data = State_wise_data.sort_values('ratioofratios',ignore_index=True)\n",
    "# State_wise_data.head()\n",
    "# with pd.option_context('display.max_rows', None,'display.max_columns', None,'display.precision', 4,):\n",
    "#     display(State_wise_data)\n",
    "State_wise_data"
   ]
  },
  {
   "cell_type": "markdown",
   "id": "e451db9c",
   "metadata": {},
   "source": [
    "#### So finally saving ratios calculated at state level  as \"state-vaccination-population-ratio.csv\" :-"
   ]
  },
  {
   "cell_type": "code",
   "execution_count": 20,
   "id": "caf4ca53",
   "metadata": {},
   "outputs": [],
   "source": [
    "State_wise_data.to_csv('state-vaccination-population-ratio.csv', index=False)"
   ]
  },
  {
   "cell_type": "markdown",
   "id": "dc92ad0e",
   "metadata": {},
   "source": [
    "## Calculating overall ratio :-"
   ]
  },
  {
   "cell_type": "code",
   "execution_count": 21,
   "id": "33b46609",
   "metadata": {},
   "outputs": [],
   "source": [
    "overall_data = pd.DataFrame()\n",
    "overall_data['Country'] = ['India']\n",
    "overall_data['vaccinationratio'] = Final_data['Female(Individuals Vaccinated)'].sum()/Final_data['Male(Individuals Vaccinated)'].sum()\n",
    "overall_data['populationratio'] = Final_data['TOT_F'].sum()/Final_data['TOT_M'].sum()\n",
    "overall_data['ratioofratios'] = overall_data['vaccinationratio']/overall_data['populationratio']\n",
    "# overall_data\n",
    "# with pd.option_context('display.max_rows', None,'display.max_columns', None,'display.precision', 4,):\n",
    "#     display(overall_data)\n"
   ]
  },
  {
   "cell_type": "markdown",
   "id": "ed4af144",
   "metadata": {},
   "source": [
    "#### So finally saving overall ratio calculated as \"overall-vaccination-population-ratio.csv\" :-"
   ]
  },
  {
   "cell_type": "code",
   "execution_count": 22,
   "id": "711f1920",
   "metadata": {},
   "outputs": [],
   "source": [
    "overall_data.to_csv('overall-vaccination-population-ratio.csv', index=False)"
   ]
  },
  {
   "cell_type": "markdown",
   "id": "22ebc75c",
   "metadata": {},
   "source": [
    "# Q6 completed..:)"
   ]
  }
 ],
 "metadata": {
  "kernelspec": {
   "display_name": "Python 3 (ipykernel)",
   "language": "python",
   "name": "python3"
  },
  "language_info": {
   "codemirror_mode": {
    "name": "ipython",
    "version": 3
   },
   "file_extension": ".py",
   "mimetype": "text/x-python",
   "name": "python",
   "nbconvert_exporter": "python",
   "pygments_lexer": "ipython3",
   "version": "3.9.7"
  }
 },
 "nbformat": 4,
 "nbformat_minor": 5
}
