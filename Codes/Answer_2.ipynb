{
 "cells": [
  {
   "cell_type": "markdown",
   "id": "ec7a2507",
   "metadata": {},
   "source": [
    "### Importing libraries that will be useful :-"
   ]
  },
  {
   "cell_type": "code",
   "execution_count": 1,
   "id": "72c21963",
   "metadata": {},
   "outputs": [],
   "source": [
    "### Importing libraries that will be useful ###\n",
    "\n",
    "import pandas as pd \n",
    "import numpy as np\n",
    "from pprint import pprint\n",
    "import json\n",
    "import csv"
   ]
  },
  {
   "cell_type": "markdown",
   "id": "b37124be",
   "metadata": {},
   "source": [
    "# Question 2 solution : "
   ]
  },
  {
   "cell_type": "code",
   "execution_count": 2,
   "id": "bdd5d56b",
   "metadata": {},
   "outputs": [],
   "source": [
    "# Loading data from neighbor-districts-modified.json file\n",
    "nd = open('neighbor-districts-modified.json')\n",
    "n_d_m_j = json.load(nd)\n",
    "# pprint(n_d_m_j)"
   ]
  },
  {
   "cell_type": "markdown",
   "id": "ce338669",
   "metadata": {},
   "source": [
    "### Making list of lists for all the districts and their adjacent districts :-"
   ]
  },
  {
   "cell_type": "code",
   "execution_count": 3,
   "id": "9b8ef444",
   "metadata": {},
   "outputs": [],
   "source": [
    "pre_final = []\n",
    "for key, value in n_d_m_j.items():\n",
    "    for i in value:\n",
    "        abc = []\n",
    "        abc.append(key)\n",
    "        abc.append(i)\n",
    "        pre_final.append(abc)\n",
    "# pre_final"
   ]
  },
  {
   "cell_type": "markdown",
   "id": "9e972ac1",
   "metadata": {},
   "source": [
    "## Finally writing output into edge-graph.csv in edge list format :-"
   ]
  },
  {
   "cell_type": "code",
   "execution_count": 4,
   "id": "cfcb5722",
   "metadata": {},
   "outputs": [],
   "source": [
    "with open('edge-graph.csv','w',encoding='UTF-8') as f:\n",
    "    f.write('i'+','+'j')\n",
    "    f.write('\\n\\n')\n",
    "    for row in pre_final:\n",
    "        for x in row:\n",
    "            f.write(str(x) + ',')\n",
    "        f.write('\\n\\n')"
   ]
  },
  {
   "cell_type": "markdown",
   "id": "c280d8bc",
   "metadata": {},
   "source": [
    "# Q2 completed..:)"
   ]
  }
 ],
 "metadata": {
  "kernelspec": {
   "display_name": "Python 3",
   "language": "python",
   "name": "python3"
  },
  "language_info": {
   "codemirror_mode": {
    "name": "ipython",
    "version": 3
   },
   "file_extension": ".py",
   "mimetype": "text/x-python",
   "name": "python",
   "nbconvert_exporter": "python",
   "pygments_lexer": "ipython3",
   "version": "3.8.8"
  }
 },
 "nbformat": 4,
 "nbformat_minor": 5
}
