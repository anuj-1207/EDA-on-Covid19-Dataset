{
 "cells": [
  {
   "cell_type": "code",
   "execution_count": 1,
   "metadata": {},
   "outputs": [],
   "source": [
    "import pandas as pd\n",
    "import numpy as np\n",
    "import warnings \n",
    "warnings.filterwarnings('ignore')\n",
    "import datetime\n",
    "from pprint import pprint\n",
    "import csv"
   ]
  },
  {
   "cell_type": "code",
   "execution_count": 2,
   "metadata": {},
   "outputs": [],
   "source": [
    "data=pd.read_csv(\"cowin_vaccine_data_districtwise.csv\")\n",
    "data=data.iloc[:,:2116]"
   ]
  },
  {
   "cell_type": "code",
   "execution_count": 3,
   "metadata": {},
   "outputs": [],
   "source": [
    "data=data.drop(data.index[0])\n",
    "# data"
   ]
  },
  {
   "cell_type": "code",
   "execution_count": 4,
   "metadata": {},
   "outputs": [],
   "source": [
    "data.drop(data.columns[[0,1, 4, 5]], axis = 1, inplace = True)\n",
    "col = data.columns.drop(['District_Key','State'])\n",
    "data[col] = data[col].apply(pd.to_numeric, errors='coerce')\n",
    "data=data.replace(np.nan, 0)\n",
    "# data"
   ]
  },
  {
   "cell_type": "code",
   "execution_count": 5,
   "metadata": {},
   "outputs": [],
   "source": [
    "start=datetime.datetime(2021, 1, 16)\n",
    "end=datetime.datetime(2021, 8, 14)\n",
    "index=pd.date_range(start, end)\n",
    "columns=['District_Key','State']\n",
    "for item in index:\n",
    "    column1=str(item.strftime('%d/%m/%Y'))+\".3\"\n",
    "    column2=str(item.strftime('%d/%m/%Y'))+\".4\"\n",
    "    columns.extend([column1,column2])\n",
    "data = data[columns]  \n"
   ]
  },
  {
   "cell_type": "code",
   "execution_count": 6,
   "metadata": {},
   "outputs": [],
   "source": [
    "district_data = data.drop(columns='State')\n",
    "# district_data"
   ]
  },
  {
   "cell_type": "code",
   "execution_count": 7,
   "metadata": {},
   "outputs": [],
   "source": [
    "data_dict=district_data.set_index('District_Key').T.to_dict('list')\n",
    "dose1={}\n",
    "dose2={}\n",
    "for i in data_dict:\n",
    "    dose1[i]=data_dict[i][::2]\n",
    "    dose2[i]=data_dict[i][1::2]"
   ]
  },
  {
   "cell_type": "code",
   "execution_count": 8,
   "metadata": {},
   "outputs": [],
   "source": [
    "state_week_doses=[]\n",
    "district_week_doses=[]\n",
    "\n",
    "for i in range(0,30):\n",
    "    j={}\n",
    "    for value in dose1:\n",
    "        key=value.partition(\"_\")[0]\n",
    "        if key not in j:\n",
    "            j[key]=[0,0]\n",
    "        \n",
    "        a=(dose1[value][i*7+7])-(dose1[value][i*7])\n",
    "        b=(dose2[value][i*7+7])-(dose2[value][i*7])\n",
    "        j[key][0]+=a\n",
    "        j[key][1]+=b\n",
    "        district_week_doses.append((value,i+1,a,b))\n",
    "    for item in j:\n",
    "        state_week_doses.append((item,i+1,j[item][0],j[item][1]))\n",
    "\n",
    "# pprint(district_week_doses)"
   ]
  },
  {
   "cell_type": "code",
   "execution_count": 9,
   "metadata": {},
   "outputs": [],
   "source": [
    "# pprint(state_week_doses)"
   ]
  },
  {
   "cell_type": "code",
   "execution_count": 10,
   "metadata": {},
   "outputs": [],
   "source": [
    "district_week_doses.sort(key=lambda y: y[0])\n",
    "\n",
    "with open('district-vaccinated-count-week.csv','w') as out:\n",
    "    csv_out=csv.writer(out)\n",
    "    csv_out.writerow(['districtid','weekid','dose1','dose2'])\n",
    "    for row in district_week_doses:\n",
    "          csv_out.writerow((row[0],row[1],int(row[2]),(int(row[3]))))"
   ]
  },
  {
   "cell_type": "code",
   "execution_count": 11,
   "metadata": {},
   "outputs": [],
   "source": [
    "state_week_doses.sort(key=lambda y: y[0])\n",
    "\n",
    "with open('state-vaccinated-count-week.csv','w') as out:\n",
    "    csv_out=csv.writer(out)\n",
    "    csv_out.writerow(['stateid','weekid','dose1','dose2'])\n",
    "    for row in state_week_doses:\n",
    "          csv_out.writerow((row[0],row[1],int(row[2]),(int(row[3]))))"
   ]
  },
  {
   "cell_type": "markdown",
   "metadata": {},
   "source": [
    "## Overall"
   ]
  },
  {
   "cell_type": "code",
   "execution_count": 12,
   "metadata": {},
   "outputs": [],
   "source": [
    "district_doses = district_data[['District_Key','14/08/2021.3','14/08/2021.4']].copy()\n",
    "district_doses.columns=['districtid','dose1','dose2']\n",
    "district_doses.to_csv('district-vaccinated-count-overall.csv')"
   ]
  },
  {
   "cell_type": "code",
   "execution_count": 13,
   "metadata": {},
   "outputs": [],
   "source": [
    "state_overall_doses = data[['State','14/08/2021.3','14/08/2021.4']].copy()\n",
    "aggregation = {'14/08/2021.3': 'sum', '14/08/2021.4': 'sum'}\n",
    "\n",
    "state_overall_doses = state_overall_doses.groupby(['State'],as_index=False).aggregate(aggregation).reindex(columns=state_overall_doses.columns)\n",
    "\n"
   ]
  },
  {
   "cell_type": "code",
   "execution_count": 14,
   "metadata": {},
   "outputs": [],
   "source": [
    "state_overall_doses.columns=['state','dose1','dose2']\n",
    "state_overall_doses.to_csv('state-vaccinated-count-overall.csv')"
   ]
  },
  {
   "cell_type": "markdown",
   "metadata": {},
   "source": [
    "## Monthly "
   ]
  },
  {
   "cell_type": "code",
   "execution_count": 15,
   "metadata": {},
   "outputs": [],
   "source": [
    "state_month_doses=[]\n",
    "district_month_doses=[]\n",
    "\n",
    "for i in range(0,7):\n",
    "    j={}\n",
    "    for value in dose1:\n",
    "        key=value.partition(\"_\")[0]\n",
    "        if key not in j:\n",
    "            j[key]=[0,0]\n",
    "        \n",
    "        a=(dose1[value][i*30+30])-(dose1[value][i*30])\n",
    "        b=(dose2[value][i*30+30])-(dose2[value][i*30])\n",
    "        j[key][0]+=a\n",
    "        j[key][1]+=b\n",
    "        district_month_doses.append((value,i+1,a,b))\n",
    "    for item in j:\n",
    "        state_month_doses.append((item,i+1,j[item][0],j[item][1]))\n",
    "\n",
    "# pprint(district_month_doses)"
   ]
  },
  {
   "cell_type": "code",
   "execution_count": 16,
   "metadata": {},
   "outputs": [],
   "source": [
    "district_month_doses.sort(key=lambda y: y[0])\n",
    "\n",
    "with open('district-vaccinated-count-month.csv','w') as out:\n",
    "    csv_out=csv.writer(out)\n",
    "    csv_out.writerow(['districtid','monthid','dose1','dose2'])\n",
    "    for row in district_month_doses:\n",
    "          csv_out.writerow((row[0],row[1],int(row[2]),(int(row[3]))))"
   ]
  },
  {
   "cell_type": "code",
   "execution_count": 17,
   "metadata": {},
   "outputs": [],
   "source": [
    "state_month_doses.sort(key=lambda y: y[0])\n",
    "\n",
    "with open('state-vaccinated-count-month.csv','w') as out:\n",
    "    csv_out=csv.writer(out)\n",
    "    csv_out.writerow(['stateid','monthid','dose1','dose2'])\n",
    "    for row in state_month_doses:\n",
    "          csv_out.writerow((row[0],row[1],int(row[2]),(int(row[3]))))"
   ]
  }
 ],
 "metadata": {
  "kernelspec": {
   "display_name": "Python 3 (ipykernel)",
   "language": "python",
   "name": "python3"
  },
  "language_info": {
   "codemirror_mode": {
    "name": "ipython",
    "version": 3
   },
   "file_extension": ".py",
   "mimetype": "text/x-python",
   "name": "python",
   "nbconvert_exporter": "python",
   "pygments_lexer": "ipython3",
   "version": "3.9.7"
  }
 },
 "nbformat": 4,
 "nbformat_minor": 4
}
