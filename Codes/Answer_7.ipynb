{
 "cells": [
  {
   "cell_type": "markdown",
   "id": "92d6458b",
   "metadata": {},
   "source": [
    "### Importing libraries that will be useful :-"
   ]
  },
  {
   "cell_type": "code",
   "execution_count": 1,
   "id": "c170265d",
   "metadata": {},
   "outputs": [],
   "source": [
    "import warnings \n",
    "warnings.filterwarnings('ignore')\n",
    "import json\n",
    "import pandas as pd"
   ]
  },
  {
   "cell_type": "markdown",
   "id": "7418865c",
   "metadata": {},
   "source": [
    "# Question 7 solution : "
   ]
  },
  {
   "cell_type": "markdown",
   "id": "08429baf",
   "metadata": {},
   "source": [
    "Reading data from cowin_vaccine_data_districtwise.csv file i.e vaccine data :-"
   ]
  },
  {
   "cell_type": "code",
   "execution_count": 2,
   "id": "a2c2c9d7",
   "metadata": {},
   "outputs": [],
   "source": [
    "vaccine_data = pd.read_csv(\"cowin_vaccine_data_districtwise.csv\",usecols=['State',\n",
    "                                                                'District_Key',\n",
    "                                                                '31/08/2021.8',\n",
    "                                                                '31/08/2021.9'])\n",
    "vaccine_data.rename(columns = {'31/08/2021.8':'Covaxin (Doses Administered)',\n",
    "                               '31/08/2021.9':'CoviShield (Doses Administered)'}, inplace = True)\n",
    "vaccine_data = vaccine_data.drop(vaccine_data.index[0])\n",
    "vaccine_data['Covaxin (Doses Administered)'] = vaccine_data['Covaxin (Doses Administered)'].astype(float)\n",
    "vaccine_data['CoviShield (Doses Administered)'] = vaccine_data['CoviShield (Doses Administered)'].astype(float)\n",
    "# vaccine_data"
   ]
  },
  {
   "cell_type": "markdown",
   "id": "1d63ec97",
   "metadata": {},
   "source": [
    "## Calculating ratios at district level :-"
   ]
  },
  {
   "cell_type": "code",
   "execution_count": 3,
   "id": "2a84eb0b",
   "metadata": {},
   "outputs": [],
   "source": [
    "district_wise_data = vaccine_data.copy()\n",
    "district_wise_data = district_wise_data.drop(columns=[\"State\"])\n",
    "district_wise_data.rename(columns = {'District_Key':'districtid'}, inplace = True)\n",
    "district_wise_data['vaccineratio'] = district_wise_data['CoviShield (Doses Administered)']/district_wise_data['Covaxin (Doses Administered)']\n",
    "district_wise_data = district_wise_data.drop(columns=[\"Covaxin (Doses Administered)\",\"CoviShield (Doses Administered)\"])\n",
    "# district_wise_data = district_wise_data.round(4)\n",
    "district_wise_data = district_wise_data.sort_values('vaccineratio',ignore_index=True)\n",
    "# district_wise_data\n",
    "# with pd.option_context('display.max_rows', None,'display.max_columns', None,'display.precision', 4,):\n",
    "#     display(district_wise_data)\n"
   ]
  },
  {
   "cell_type": "markdown",
   "id": "b223a528",
   "metadata": {},
   "source": [
    "#### So finally saving ratios calculated at district level  as \"district-vaccine-type-ratio.csv\" :-"
   ]
  },
  {
   "cell_type": "code",
   "execution_count": 4,
   "id": "7b008b81",
   "metadata": {},
   "outputs": [],
   "source": [
    "district_wise_data.to_csv('district-vaccine-type-ratio.csv', index=False)"
   ]
  },
  {
   "cell_type": "markdown",
   "id": "03de5ae7",
   "metadata": {},
   "source": [
    "## Calculating ratios at state level :-"
   ]
  },
  {
   "cell_type": "code",
   "execution_count": 11,
   "id": "c393de2f",
   "metadata": {},
   "outputs": [
    {
     "data": {
      "text/html": [
       "<div>\n",
       "<style scoped>\n",
       "    .dataframe tbody tr th:only-of-type {\n",
       "        vertical-align: middle;\n",
       "    }\n",
       "\n",
       "    .dataframe tbody tr th {\n",
       "        vertical-align: top;\n",
       "    }\n",
       "\n",
       "    .dataframe thead th {\n",
       "        text-align: right;\n",
       "    }\n",
       "</style>\n",
       "<table border=\"1\" class=\"dataframe\">\n",
       "  <thead>\n",
       "    <tr style=\"text-align: right;\">\n",
       "      <th></th>\n",
       "      <th>State</th>\n",
       "      <th>vaccineratio</th>\n",
       "    </tr>\n",
       "  </thead>\n",
       "  <tbody>\n",
       "    <tr>\n",
       "      <th>0</th>\n",
       "      <td>Delhi</td>\n",
       "      <td>3.296</td>\n",
       "    </tr>\n",
       "    <tr>\n",
       "      <th>1</th>\n",
       "      <td>Telangana</td>\n",
       "      <td>4.278</td>\n",
       "    </tr>\n",
       "    <tr>\n",
       "      <th>2</th>\n",
       "      <td>Andhra Pradesh</td>\n",
       "      <td>5.393</td>\n",
       "    </tr>\n",
       "    <tr>\n",
       "      <th>3</th>\n",
       "      <td>Jharkhand</td>\n",
       "      <td>5.464</td>\n",
       "    </tr>\n",
       "    <tr>\n",
       "      <th>4</th>\n",
       "      <td>Tamil Nadu</td>\n",
       "      <td>6.087</td>\n",
       "    </tr>\n",
       "    <tr>\n",
       "      <th>5</th>\n",
       "      <td>Odisha</td>\n",
       "      <td>6.452</td>\n",
       "    </tr>\n",
       "    <tr>\n",
       "      <th>6</th>\n",
       "      <td>Haryana</td>\n",
       "      <td>6.618</td>\n",
       "    </tr>\n",
       "    <tr>\n",
       "      <th>7</th>\n",
       "      <td>Maharashtra</td>\n",
       "      <td>6.781</td>\n",
       "    </tr>\n",
       "    <tr>\n",
       "      <th>8</th>\n",
       "      <td>West Bengal</td>\n",
       "      <td>6.980</td>\n",
       "    </tr>\n",
       "    <tr>\n",
       "      <th>9</th>\n",
       "      <td>Karnataka</td>\n",
       "      <td>7.092</td>\n",
       "    </tr>\n",
       "    <tr>\n",
       "      <th>10</th>\n",
       "      <td>Rajasthan</td>\n",
       "      <td>7.189</td>\n",
       "    </tr>\n",
       "    <tr>\n",
       "      <th>11</th>\n",
       "      <td>Punjab</td>\n",
       "      <td>7.200</td>\n",
       "    </tr>\n",
       "    <tr>\n",
       "      <th>12</th>\n",
       "      <td>Uttar Pradesh</td>\n",
       "      <td>7.408</td>\n",
       "    </tr>\n",
       "    <tr>\n",
       "      <th>13</th>\n",
       "      <td>Chhattisgarh</td>\n",
       "      <td>7.587</td>\n",
       "    </tr>\n",
       "    <tr>\n",
       "      <th>14</th>\n",
       "      <td>Assam</td>\n",
       "      <td>7.902</td>\n",
       "    </tr>\n",
       "    <tr>\n",
       "      <th>15</th>\n",
       "      <td>Bihar</td>\n",
       "      <td>7.973</td>\n",
       "    </tr>\n",
       "    <tr>\n",
       "      <th>16</th>\n",
       "      <td>Madhya Pradesh</td>\n",
       "      <td>8.111</td>\n",
       "    </tr>\n",
       "    <tr>\n",
       "      <th>17</th>\n",
       "      <td>Gujarat</td>\n",
       "      <td>8.366</td>\n",
       "    </tr>\n",
       "    <tr>\n",
       "      <th>18</th>\n",
       "      <td>Kerala</td>\n",
       "      <td>9.072</td>\n",
       "    </tr>\n",
       "    <tr>\n",
       "      <th>19</th>\n",
       "      <td>Uttarakhand</td>\n",
       "      <td>13.509</td>\n",
       "    </tr>\n",
       "    <tr>\n",
       "      <th>20</th>\n",
       "      <td>Jammu and Kashmir</td>\n",
       "      <td>21.789</td>\n",
       "    </tr>\n",
       "    <tr>\n",
       "      <th>21</th>\n",
       "      <td>Tripura</td>\n",
       "      <td>47.340</td>\n",
       "    </tr>\n",
       "    <tr>\n",
       "      <th>22</th>\n",
       "      <td>Goa</td>\n",
       "      <td>53.933</td>\n",
       "    </tr>\n",
       "    <tr>\n",
       "      <th>23</th>\n",
       "      <td>Chandigarh</td>\n",
       "      <td>227.016</td>\n",
       "    </tr>\n",
       "    <tr>\n",
       "      <th>24</th>\n",
       "      <td>Himachal Pradesh</td>\n",
       "      <td>2047.410</td>\n",
       "    </tr>\n",
       "    <tr>\n",
       "      <th>25</th>\n",
       "      <td>Puducherry</td>\n",
       "      <td>11154.459</td>\n",
       "    </tr>\n",
       "    <tr>\n",
       "      <th>26</th>\n",
       "      <td>Dadra and Nagar Haveli and Daman and Diu</td>\n",
       "      <td>16133.660</td>\n",
       "    </tr>\n",
       "    <tr>\n",
       "      <th>27</th>\n",
       "      <td>Sikkim</td>\n",
       "      <td>inf</td>\n",
       "    </tr>\n",
       "    <tr>\n",
       "      <th>28</th>\n",
       "      <td>Andaman and Nicobar Islands</td>\n",
       "      <td>inf</td>\n",
       "    </tr>\n",
       "    <tr>\n",
       "      <th>29</th>\n",
       "      <td>Mizoram</td>\n",
       "      <td>inf</td>\n",
       "    </tr>\n",
       "    <tr>\n",
       "      <th>30</th>\n",
       "      <td>Meghalaya</td>\n",
       "      <td>inf</td>\n",
       "    </tr>\n",
       "    <tr>\n",
       "      <th>31</th>\n",
       "      <td>Manipur</td>\n",
       "      <td>inf</td>\n",
       "    </tr>\n",
       "    <tr>\n",
       "      <th>32</th>\n",
       "      <td>Lakshadweep</td>\n",
       "      <td>inf</td>\n",
       "    </tr>\n",
       "    <tr>\n",
       "      <th>33</th>\n",
       "      <td>Arunachal Pradesh</td>\n",
       "      <td>inf</td>\n",
       "    </tr>\n",
       "    <tr>\n",
       "      <th>34</th>\n",
       "      <td>Nagaland</td>\n",
       "      <td>inf</td>\n",
       "    </tr>\n",
       "    <tr>\n",
       "      <th>35</th>\n",
       "      <td>Ladakh</td>\n",
       "      <td>inf</td>\n",
       "    </tr>\n",
       "  </tbody>\n",
       "</table>\n",
       "</div>"
      ],
      "text/plain": [
       "                                       State  vaccineratio\n",
       "0                                      Delhi         3.296\n",
       "1                                  Telangana         4.278\n",
       "2                             Andhra Pradesh         5.393\n",
       "3                                  Jharkhand         5.464\n",
       "4                                 Tamil Nadu         6.087\n",
       "5                                     Odisha         6.452\n",
       "6                                    Haryana         6.618\n",
       "7                                Maharashtra         6.781\n",
       "8                                West Bengal         6.980\n",
       "9                                  Karnataka         7.092\n",
       "10                                 Rajasthan         7.189\n",
       "11                                    Punjab         7.200\n",
       "12                             Uttar Pradesh         7.408\n",
       "13                              Chhattisgarh         7.587\n",
       "14                                     Assam         7.902\n",
       "15                                     Bihar         7.973\n",
       "16                            Madhya Pradesh         8.111\n",
       "17                                   Gujarat         8.366\n",
       "18                                    Kerala         9.072\n",
       "19                               Uttarakhand        13.509\n",
       "20                         Jammu and Kashmir        21.789\n",
       "21                                   Tripura        47.340\n",
       "22                                       Goa        53.933\n",
       "23                                Chandigarh       227.016\n",
       "24                          Himachal Pradesh      2047.410\n",
       "25                                Puducherry     11154.459\n",
       "26  Dadra and Nagar Haveli and Daman and Diu     16133.660\n",
       "27                                    Sikkim           inf\n",
       "28               Andaman and Nicobar Islands           inf\n",
       "29                                   Mizoram           inf\n",
       "30                                 Meghalaya           inf\n",
       "31                                   Manipur           inf\n",
       "32                               Lakshadweep           inf\n",
       "33                         Arunachal Pradesh           inf\n",
       "34                                  Nagaland           inf\n",
       "35                                    Ladakh           inf"
      ]
     },
     "metadata": {},
     "output_type": "display_data"
    }
   ],
   "source": [
    "State_wise_data = vaccine_data.copy()\n",
    "State_wise_data = State_wise_data.drop(columns=[\"District_Key\"])\n",
    "State_wise_data = State_wise_data.groupby(['State']).agg({'Covaxin (Doses Administered)':'sum',\n",
    "                                                          'CoviShield (Doses Administered)':'sum'}).reset_index()\n",
    "State_wise_data['vaccineratio'] = State_wise_data['CoviShield (Doses Administered)']/State_wise_data['Covaxin (Doses Administered)']\n",
    "State_wise_data = State_wise_data.drop(columns=[\"Covaxin (Doses Administered)\",\"CoviShield (Doses Administered)\"])\n",
    "State_wise_data = State_wise_data.sort_values('vaccineratio',ignore_index=True)\n",
    "State_wise_data = State_wise_data.round(3)\n",
    "# State_wise_data\n",
    "with pd.option_context('display.max_rows', None,'display.max_columns', None,'display.precision', 4,):\n",
    "    display(State_wise_data)\n"
   ]
  },
  {
   "cell_type": "markdown",
   "id": "54613a51",
   "metadata": {},
   "source": [
    "#### So finally saving ratios calculated at state level  as \"state-vaccine-type-ratio.csv\" :-"
   ]
  },
  {
   "cell_type": "code",
   "execution_count": 6,
   "id": "0ea2dfc5",
   "metadata": {},
   "outputs": [],
   "source": [
    "State_wise_data.to_csv('state-vaccine-type-ratio.csv', index=False)"
   ]
  },
  {
   "cell_type": "markdown",
   "id": "9b30fd33",
   "metadata": {},
   "source": [
    "## Calculating overall ratio :-"
   ]
  },
  {
   "cell_type": "code",
   "execution_count": 7,
   "id": "99453e92",
   "metadata": {},
   "outputs": [],
   "source": [
    "overall_data = pd.DataFrame()\n",
    "overall_data['Country'] = ['India']\n",
    "overall_data['vaccineratio'] = vaccine_data['CoviShield (Doses Administered)'].sum()/vaccine_data['Covaxin (Doses Administered)'].sum()\n",
    "# overall_data"
   ]
  },
  {
   "cell_type": "markdown",
   "id": "a2cf3dac",
   "metadata": {},
   "source": [
    "#### So finally saving overall ratio calculated as \"overall-vaccine-type-ratio.csv\" :-"
   ]
  },
  {
   "cell_type": "code",
   "execution_count": 8,
   "id": "c432a1cd",
   "metadata": {},
   "outputs": [],
   "source": [
    "overall_data.to_csv('overall-vaccine-type-ratio.csv', index=False)"
   ]
  },
  {
   "cell_type": "markdown",
   "id": "49b74575",
   "metadata": {},
   "source": [
    "# Q7 completed..:)"
   ]
  }
 ],
 "metadata": {
  "kernelspec": {
   "display_name": "Python 3",
   "language": "python",
   "name": "python3"
  },
  "language_info": {
   "codemirror_mode": {
    "name": "ipython",
    "version": 3
   },
   "file_extension": ".py",
   "mimetype": "text/x-python",
   "name": "python",
   "nbconvert_exporter": "python",
   "pygments_lexer": "ipython3",
   "version": "3.8.8"
  }
 },
 "nbformat": 4,
 "nbformat_minor": 5
}
